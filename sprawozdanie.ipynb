{
 "cells": [
  {
   "cell_type": "markdown",
   "metadata": {},
   "source": [
    "# <center>Laboratorium 9<br>Metody Numeryczne</center>"
   ]
  },
  {
   "cell_type": "markdown",
   "metadata": {},
   "source": [
    "Instrukcja:  \n",
    "Na zajęciach należy wykonać poniższe zadania, a następnie sporządzić sprawozdanie zawierające odpowiedzi (w postaci kodu) z komentarzami w środowisku Jupyter Notebook i umieścić je na platformie e-learningowej."
   ]
  },
  {
   "cell_type": "markdown",
   "metadata": {},
   "source": [
    "***Materiały przygotowujące:***\n"
   ]
  },
  {
   "cell_type": "code",
   "execution_count": 4,
   "metadata": {},
   "outputs": [],
   "source": [
    "import main\n",
    "import numpy as np\n",
    "import scipy\n",
    "import matplotlib\n",
    "import matplotlib.pyplot as plt\n",
    "import math"
   ]
  },
  {
   "cell_type": "markdown",
   "metadata": {},
   "source": [
    "***Temat główny:***\n",
    "\n",
    "Znajdź miejsca zerowe funkcji: \n",
    "$$ \n",
    "f(x) = e^{-2x} + x^2 - 1 \n",
    "$$,\n",
    "\n",
    "metodami:\n",
    "* Bisekcji,\n",
    "* Newtona\n",
    "\n",
    "Funkcja i jej pochodne zostały zaimplementowane w *main.py*"
   ]
  },
  {
   "cell_type": "markdown",
   "metadata": {},
   "source": [
    "***Zadanie 1.***  \n",
    "Wykonaj wykres funkcji oraz jej pierwszej i drugiej pochodnej (obliczonej analitycznie) na jednym rysunku w przedziale pozwalającym na zgrubne określenie miejsc zerowych. Wykres powinien być odpowiednio opisany. Określ przedziały, w którym znajdują się miejsca zerowe naszej funkcji.\n",
    "\n",
    "W jaki sposób (wykorzystując pierwszą i drugą pochodną) można znaleźć miejsca zerowe funkcji?"
   ]
  },
  {
   "cell_type": "markdown",
   "metadata": {},
   "source": [
    "***Zadanie 2.***  \n",
    "Najprostszą metodą do wyznaczenia miejsca zerowego funkcji nieliniowej jest metoda bisekcji. Zaimplementuj [metodę bisekcji](https://en.wikipedia.org/wiki/Bisection_method)\n",
    "\n",
    "Pamiętaj, że gwarancją zbieżności działania funkcji są założenia:\n",
    "\n",
    "1) funkcja jest ciągła na danym przedziale $[a,b]$\n",
    "\n",
    "2) wartość funkcji na końcach przedziału przyjmuje przeciwne znaki (tzn. $f(a)*f(b)<0$)"
   ]
  },
  {
   "cell_type": "markdown",
   "metadata": {},
   "source": [
    "***Zadanie 3.***  \n",
    "Inną metodą, wykorzystywaną do poszukiwania miejsca zerowego funkcji jest metoda Newtona. Wykorzystuję ona wartość pierwszej pochodnej do wyznaczenia wartości.\n",
    "\n",
    "1) zaimplementuj iloraz różnicowy. \n",
    "2) wygeneruj wektor 10 elementowy\n",
    "3) sprawdź działanie funkcji dla danego wektora oraz  $h=0.00001$ oraz z wartościami uzyskanymi z funkcją wyliczoną analityczną.\n",
    "\n",
    "Zaimplementuj [metodę Newtona](https://en.wikipedia.org/wiki/Newton%27s_method)\n",
    "\n",
    "Gwarancja zbieżności:\n",
    "\n",
    "1) funkcja jest ciągła na danym przedziale $[a,b]$\n",
    "\n",
    "2) Pierwsza i druga pochodna istnieją i są ciągłe w przedziale domkniętym $[a,b]$\n",
    "\n",
    "3) funkcja na końcach przedziału przyjmuje przeciwne znaki\n",
    "\n",
    "4) pierwsza i druga pochodna mają stały znak (brak ekstremów lokalnych i punktów przegięcia)\n"
   ]
  },
  {
   "cell_type": "markdown",
   "metadata": {},
   "source": [
    "***Zadania 4.***  \n",
    "Dla głównej funkcji z zadania 1 znajdź miejsca zerowe przy użyciu:\n",
    "\n",
    "* funkcji root dostępnej w pakiecie scipy.optimize\n",
    "* funkcji fsolve dostępnej w pakiecie scipy.optimize\n"
   ]
  },
  {
   "cell_type": "markdown",
   "metadata": {},
   "source": [
    "***Zadanie 5.***  \n",
    "Dla głównej funkcji oraz przedziału zdefiniowanego z zadania 1 znajdź miejsca zerowe przy użyciu:\n",
    "\n",
    "* metody bisekcji\n",
    "* metody Newtona\n",
    "\n",
    "z tolerancją $10^{-10}$\n",
    "\n",
    "Zbadaj dokładność(względem rozwiązania z zadania 4) i czas obliczeń metod w zależności od liczby iteracji. Wyniki przedstaw na wykresach. "
   ]
  }
 ],
 "metadata": {
  "kernelspec": {
   "display_name": "Python 3",
   "language": "python",
   "name": "python3"
  },
  "language_info": {
   "codemirror_mode": {
    "name": "ipython",
    "version": 3
   },
   "file_extension": ".py",
   "mimetype": "text/x-python",
   "name": "python",
   "nbconvert_exporter": "python",
   "pygments_lexer": "ipython3",
   "version": "3.10.11"
  }
 },
 "nbformat": 4,
 "nbformat_minor": 2
}
